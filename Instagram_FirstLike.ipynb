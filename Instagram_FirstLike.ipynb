{
 "cells": [
  {
   "cell_type": "code",
   "execution_count": null,
   "metadata": {},
   "outputs": [],
   "source": [
    "from selenium import webdriver\n",
    "from selenium.webdriver.common.keys import Keys\n",
    "from time import sleep, strftime\n",
    "from random import randint\n",
    "from selenium.webdriver.support.ui import WebDriverWait\n",
    "from selenium.webdriver.support import expected_conditions as EC   \n",
    "from selenium.webdriver.common.by import By\n",
    "\n",
    "chromedriver_path = 'C:/Users/zpasha/Downloads/chromedriver_win32 (1)/chromedriver.exe' \n",
    "webdriver = webdriver.Chrome(executable_path=chromedriver_path)\n",
    "sleep(2)\n",
    "webdriver.get('https://www.instagram.com/accounts/login/?source=auth_switcher')\n",
    "sleep(3)\n",
    "\n",
    "username = webdriver.find_element_by_name('username')\n",
    "username.send_keys('pashawasha')\n",
    "password = webdriver.find_element_by_name('password')\n",
    "password.send_keys('xxxxxx!')\n",
    "button_login = webdriver.find_element_by_css_selector('#react-root > section > main > div > article > div > div > div > form > div > button.sqdOP.L3NKy.y3zKF')\n",
    "button_login.click()\n",
    "sleep(4)\n",
    "notnow = webdriver.find_element_by_css_selector('#react-root > section > main > div > div > div > div > button.sqdOP.yWX7d.y3zKF')\n",
    "notnow.click()\n",
    "sleep (4)\n",
    "postnotifications = webdriver.find_element_by_xpath('/html/body/div[4]/div/div/div/div[3]/button[2]')\n",
    "postnotifications.click()\n",
    "sleep(3)\n",
    "\n",
    "firstpic = webdriver.find_element_by_class_name(\"_9AhH0\") \n",
    "firstpic.click()\n",
    "sleep(2)\n",
    "like = webdriver.find_element_by_class_name('_8-yf5 ') \n",
    "like.click()"
   ]
  },
  {
   "cell_type": "code",
   "execution_count": null,
   "metadata": {},
   "outputs": [],
   "source": []
  }
 ],
 "metadata": {
  "kernelspec": {
   "display_name": "Python 3",
   "language": "python",
   "name": "python3"
  },
  "language_info": {
   "name": ""
  }
 },
 "nbformat": 4,
 "nbformat_minor": 4
}
